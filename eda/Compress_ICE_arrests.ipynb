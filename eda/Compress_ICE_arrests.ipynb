{
  "nbformat": 4,
  "nbformat_minor": 0,
  "metadata": {
    "colab": {
      "provenance": []
    },
    "kernelspec": {
      "name": "python3",
      "display_name": "Python 3"
    },
    "language_info": {
      "name": "python"
    }
  },
  "cells": [
    {
      "cell_type": "code",
      "execution_count": 2,
      "metadata": {
        "id": "kkmIliBgmizD"
      },
      "outputs": [],
      "source": [
        "import pandas as pd\n",
        "import numpy as np\n",
        "import matplotlib.pyplot as plt\n",
        "import seaborn as sns\n",
        "import statsmodels.api as sm\n",
        "import statsmodels.formula.api as smf\n",
        "import sklearn as sk"
      ]
    },
    {
      "cell_type": "code",
      "source": [
        "ice_df = pd.read_csv('arrests-clean.csv')"
      ],
      "metadata": {
        "id": "0Nv2NKKLmt8A"
      },
      "execution_count": 3,
      "outputs": []
    },
    {
      "cell_type": "code",
      "source": [
        "ice_date = ice_df['apprehension_date'].tolist()\n",
        "ice_citizen = ice_df['citizenship_country'].tolist()\n",
        "ice_depart = ice_df['departure_country'].tolist()\n",
        "daily_data = {'Date': [], 'Arrests': [], 'Deportations': [], 'Deportations to home country': [], 'Deportations elsewhere': [], 'Home country proportion': []}\n",
        "daily_df = pd.DataFrame(data=daily_data)\n",
        "# Keeps track of the dates put in daiy_data to prevent repeating rows\n",
        "used_dates = []\n",
        "# Contains the total number of arrests made for each day\n",
        "ice_arrests = []\n",
        "# Contains the total number of deportations that have happened\n",
        "# that result from arrests made that day\n",
        "ice_deport = []\n",
        "# Contains the total of deportations that go to the arrested\n",
        "# persons' country of citizenship\n",
        "ice_home = []\n",
        "# Contains the total of deportations going to other countries\n",
        "ice_else = []\n",
        "# The proportion of deportations that go to the correct country\n",
        "ice_proportion = []"
      ],
      "metadata": {
        "id": "hxasihssVcGf"
      },
      "execution_count": 4,
      "outputs": []
    },
    {
      "cell_type": "markdown",
      "source": [
        "The convert_day method requires a date taken from the apprehension_date column of the dataset that is being processed. It checks that it has not previously processed data for this date before by checking a list of dates that it adds to whenever it processes an apprehension date for the first time. If it has not processed data relating to this date before, it finds the indices of arrests on that day in the cleaned ICE data. It then finds the total number of arrests, arrests leading to a deportation, the total numbers of arrests leading to deportations that either deport to the deported persons' country of citizenship or not, and the proportion of deportation-resulting arrests that go to the deported persons' coubtry of citizenship. It adds these to lists that will become columns of the daily_df dataframe afterwards."
      ],
      "metadata": {
        "id": "bj-jUxsWRas_"
      }
    },
    {
      "cell_type": "code",
      "source": [
        "from contextlib import nullcontext\n",
        "# Takes all of the entries for each day\n",
        "# and compresses them into a single row\n",
        "def convert_day (apprehension_date):\n",
        "  if not(apprehension_date in used_dates):\n",
        "    used_dates.append(apprehension_date)\n",
        "    index_list = []\n",
        "    for index, date in enumerate(ice_date):\n",
        "      if date == apprehension_date:\n",
        "        index_list.append(index)\n",
        "    citizen_list = []\n",
        "    depart_list = []\n",
        "    for index in index_list:\n",
        "        citizen_list.append(ice_citizen[index])\n",
        "        depart_list.append(ice_depart[index])\n",
        "    home = 0\n",
        "    apart = 0\n",
        "    i = 0\n",
        "    while i < len(index_list):\n",
        "      if(not(pd.isnull(depart_list[i]))):\n",
        "        if (citizen_list[i] == depart_list[i]):\n",
        "          home += 1\n",
        "        else:\n",
        "          apart += 1\n",
        "      i += 1\n",
        "    ice_arrests.append(len(index_list))\n",
        "    ice_deport.append(home+apart)\n",
        "    ice_home.append(home)\n",
        "    ice_else.append(apart)\n",
        "    if home+apart>0:\n",
        "      ice_proportion.append(home/(home+apart))\n",
        "    else:\n",
        "      ice_proportion.append(nullcontext)"
      ],
      "metadata": {
        "id": "3i429IaQese4"
      },
      "execution_count": 5,
      "outputs": []
    },
    {
      "cell_type": "code",
      "source": [
        "for apprehension_date in ice_date:\n",
        "  convert_day(apprehension_date)\n",
        "# Move outcome to dataframe\n",
        "daily_df['Date'] = used_dates\n",
        "daily_df['Arrests'] = ice_arrests\n",
        "daily_df['Deportations'] = ice_deport\n",
        "daily_df['Deportations to home country'] = ice_home\n",
        "daily_df['Deportations elsewhere'] = ice_else\n",
        "daily_df['Home country proportion'] = ice_proportion\n"
      ],
      "metadata": {
        "id": "69cdXWD-oWCp"
      },
      "execution_count": 6,
      "outputs": []
    },
    {
      "cell_type": "code",
      "source": [
        "# Exports dataframe to csv\n",
        "daily_df.to_csv('arrests_by_day.csv')"
      ],
      "metadata": {
        "id": "RgxFF31qJgTr"
      },
      "execution_count": 7,
      "outputs": []
    }
  ]
}