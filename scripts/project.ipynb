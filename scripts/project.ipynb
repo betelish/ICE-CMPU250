this will eventually be a project, huh?
